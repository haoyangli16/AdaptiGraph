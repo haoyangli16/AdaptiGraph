{
 "cells": [
  {
   "cell_type": "code",
   "execution_count": 2,
   "metadata": {},
   "outputs": [],
   "source": [
    "import numpy as np\n",
    "import matplotlib.pyplot as plt"
   ]
  },
  {
   "cell_type": "code",
   "execution_count": 4,
   "metadata": {},
   "outputs": [],
   "source": [
    "# load npz file:\n",
    "data = np.load('/home/haoyang/project/haoyang/UniSoft/ThirdParty/AdaptiGraph/src/planning/dump/vis_demo/granular_1/ppo_9.npz')"
   ]
  },
  {
   "cell_type": "code",
   "execution_count": 7,
   "metadata": {},
   "outputs": [
    {
     "name": "stdout",
     "output_type": "stream",
     "text": [
      "['physics_param', 'error', 'error_init']\n",
      "[0.04158584]\n",
      "0.3009608492255211\n",
      "0.343886162340641\n"
     ]
    }
   ],
   "source": [
    "# print out the keys:\n",
    "print(data.files)\n",
    "print(data['physics_param'])\n",
    "print(data['error'])\n",
    "print(data['error_init'])"
   ]
  },
  {
   "cell_type": "code",
   "execution_count": 10,
   "metadata": {},
   "outputs": [
    {
     "name": "stdout",
     "output_type": "stream",
     "text": [
      "{'particle_radius': 0.03, 'num_particles': 4900, 'stretch_stiffness': 1.0, 'bend_stiffness': 0.8683389054982545, 'shear_stiffness': 0.8683389054982545, 'dynamic_friction': 0.5060678464654077, 'sf': 0.5488135039273248}\n"
     ]
    }
   ],
   "source": [
    "# read pickle file:\n",
    "\n",
    "import pickle\n",
    "with open('/home/haoyang/project/haoyang/UniSoft/ThirdParty/AdaptiGraph/sim_data/cloth/000000/property_params.pkl', 'rb') as f:\n",
    "    data = pickle.load(f)\n",
    "    print(data)"
   ]
  }
 ],
 "metadata": {
  "kernelspec": {
   "display_name": "adaptigraph",
   "language": "python",
   "name": "python3"
  },
  "language_info": {
   "codemirror_mode": {
    "name": "ipython",
    "version": 3
   },
   "file_extension": ".py",
   "mimetype": "text/x-python",
   "name": "python",
   "nbconvert_exporter": "python",
   "pygments_lexer": "ipython3",
   "version": "3.9.19"
  }
 },
 "nbformat": 4,
 "nbformat_minor": 2
}
